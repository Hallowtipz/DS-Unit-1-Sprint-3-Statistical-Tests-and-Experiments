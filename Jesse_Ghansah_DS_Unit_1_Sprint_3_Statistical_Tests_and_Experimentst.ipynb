{
  "nbformat": 4,
  "nbformat_minor": 0,
  "metadata": {
    "colab": {
      "name": "Jesse_Ghansah_DS-Unit-1-Sprint-3-Statistical-Tests-and-Experimentst.ipynb",
      "provenance": [],
      "collapsed_sections": [],
      "include_colab_link": true
    },
    "kernelspec": {
      "name": "python3",
      "display_name": "Python 3"
    }
  },
  "cells": [
    {
      "cell_type": "markdown",
      "metadata": {
        "id": "view-in-github",
        "colab_type": "text"
      },
      "source": [
        "<a href=\"https://colab.research.google.com/github/Hallowtipz/DS-Unit-1-Sprint-3-Statistical-Tests-and-Experiments/blob/master/Jesse_Ghansah_DS_Unit_1_Sprint_3_Statistical_Tests_and_Experimentst.ipynb\" target=\"_parent\"><img src=\"https://colab.research.google.com/assets/colab-badge.svg\" alt=\"Open In Colab\"/></a>"
      ]
    },
    {
      "cell_type": "markdown",
      "metadata": {
        "id": "jG7XmmYRl5uv",
        "colab_type": "text"
      },
      "source": [
        "\"What factors contribute most to, or are most indicative of, recessions in Africa?\""
      ]
    },
    {
      "cell_type": "code",
      "metadata": {
        "id": "MHS0lc9vk1Og",
        "colab_type": "code",
        "colab": {}
      },
      "source": [
        "import pandas as pd\n",
        "import numpy as np"
      ],
      "execution_count": 0,
      "outputs": []
    },
    {
      "cell_type": "code",
      "metadata": {
        "id": "e9V5Xg4CgUAY",
        "colab_type": "code",
        "outputId": "a799dd46-c4f7-44bd-b607-1fad411f6cfa",
        "colab": {
          "resources": {
            "http://localhost:8080/nbextensions/google.colab/files.js": {
              "data": "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",
              "ok": true,
              "headers": [
                [
                  "content-type",
                  "application/javascript"
                ]
              ],
              "status": 200,
              "status_text": ""
            }
          },
          "base_uri": "https://localhost:8080/",
          "height": 71
        }
      },
      "source": [
        "from google.colab import files\n",
        "\n",
        "uploaded = files.upload()\n"
      ],
      "execution_count": 0,
      "outputs": [
        {
          "output_type": "display_data",
          "data": {
            "text/html": [
              "\n",
              "     <input type=\"file\" id=\"files-19613725-a758-4516-ace9-1136d4819783\" name=\"files[]\" multiple disabled />\n",
              "     <output id=\"result-19613725-a758-4516-ace9-1136d4819783\">\n",
              "      Upload widget is only available when the cell has been executed in the\n",
              "      current browser session. Please rerun this cell to enable.\n",
              "      </output>\n",
              "      <script src=\"/nbextensions/google.colab/files.js\"></script> "
            ],
            "text/plain": [
              "<IPython.core.display.HTML object>"
            ]
          },
          "metadata": {
            "tags": []
          }
        },
        {
          "output_type": "stream",
          "text": [
            "Saving africa_recession.csv to africa_recession.csv\n"
          ],
          "name": "stdout"
        }
      ]
    },
    {
      "cell_type": "code",
      "metadata": {
        "id": "iNXKWG_aku9O",
        "colab_type": "code",
        "colab": {}
      },
      "source": [
        "df = pd.read_csv('africa_recession.csv')"
      ],
      "execution_count": 0,
      "outputs": []
    },
    {
      "cell_type": "code",
      "metadata": {
        "id": "VEbe5ciak7Po",
        "colab_type": "code",
        "outputId": "4fbe6099-8e42-4560-d0c2-36dc0e4a6907",
        "colab": {
          "base_uri": "https://localhost:8080/",
          "height": 34
        }
      },
      "source": [
        "df.shape"
      ],
      "execution_count": 0,
      "outputs": [
        {
          "output_type": "execute_result",
          "data": {
            "text/plain": [
              "(486, 50)"
            ]
          },
          "metadata": {
            "tags": []
          },
          "execution_count": 9
        }
      ]
    },
    {
      "cell_type": "code",
      "metadata": {
        "id": "xDOk4rmflCek",
        "colab_type": "code",
        "outputId": "02d2697d-b725-4ac7-fc23-7c3c42c5ad0c",
        "colab": {
          "base_uri": "https://localhost:8080/",
          "height": 224
        }
      },
      "source": [
        "df.head()"
      ],
      "execution_count": 0,
      "outputs": [
        {
          "output_type": "execute_result",
          "data": {
            "text/html": [
              "<div>\n",
              "<style scoped>\n",
              "    .dataframe tbody tr th:only-of-type {\n",
              "        vertical-align: middle;\n",
              "    }\n",
              "\n",
              "    .dataframe tbody tr th {\n",
              "        vertical-align: top;\n",
              "    }\n",
              "\n",
              "    .dataframe thead th {\n",
              "        text-align: right;\n",
              "    }\n",
              "</style>\n",
              "<table border=\"1\" class=\"dataframe\">\n",
              "  <thead>\n",
              "    <tr style=\"text-align: right;\">\n",
              "      <th></th>\n",
              "      <th>pop</th>\n",
              "      <th>emp</th>\n",
              "      <th>emp_to_pop_ratio</th>\n",
              "      <th>hc</th>\n",
              "      <th>ccon</th>\n",
              "      <th>cda</th>\n",
              "      <th>cn</th>\n",
              "      <th>ck</th>\n",
              "      <th>ctfp</th>\n",
              "      <th>cwtfp</th>\n",
              "      <th>rconna</th>\n",
              "      <th>rdana</th>\n",
              "      <th>rnna</th>\n",
              "      <th>rkna</th>\n",
              "      <th>rtfpna</th>\n",
              "      <th>rwtfpna</th>\n",
              "      <th>labsh</th>\n",
              "      <th>irr</th>\n",
              "      <th>delta</th>\n",
              "      <th>xr</th>\n",
              "      <th>pl_con</th>\n",
              "      <th>pl_da</th>\n",
              "      <th>pl_gdpo</th>\n",
              "      <th>csh_c</th>\n",
              "      <th>csh_i</th>\n",
              "      <th>csh_g</th>\n",
              "      <th>csh_x</th>\n",
              "      <th>csh_m</th>\n",
              "      <th>csh_r</th>\n",
              "      <th>pl_c</th>\n",
              "      <th>pl_i</th>\n",
              "      <th>pl_g</th>\n",
              "      <th>pl_x</th>\n",
              "      <th>pl_m</th>\n",
              "      <th>pl_n</th>\n",
              "      <th>total</th>\n",
              "      <th>excl_energy</th>\n",
              "      <th>energy</th>\n",
              "      <th>metals_minerals</th>\n",
              "      <th>forestry</th>\n",
              "      <th>agriculture</th>\n",
              "      <th>fish</th>\n",
              "      <th>total_change</th>\n",
              "      <th>excl_energy_change</th>\n",
              "      <th>energy_change</th>\n",
              "      <th>metals_minerals_change</th>\n",
              "      <th>forestry_change</th>\n",
              "      <th>agriculture_change</th>\n",
              "      <th>fish_change</th>\n",
              "      <th>growthbucket</th>\n",
              "    </tr>\n",
              "  </thead>\n",
              "  <tbody>\n",
              "    <tr>\n",
              "      <th>0</th>\n",
              "      <td>28.849621</td>\n",
              "      <td>6.914298</td>\n",
              "      <td>0.239667</td>\n",
              "      <td>1.547767</td>\n",
              "      <td>99010.171880</td>\n",
              "      <td>131991.375000</td>\n",
              "      <td>426543.343800</td>\n",
              "      <td>0.009374</td>\n",
              "      <td>0.648979</td>\n",
              "      <td>0.626111</td>\n",
              "      <td>95642.992190</td>\n",
              "      <td>131823.703100</td>\n",
              "      <td>7.039534e+05</td>\n",
              "      <td>0.512764</td>\n",
              "      <td>1.068518</td>\n",
              "      <td>1.008857</td>\n",
              "      <td>0.483403</td>\n",
              "      <td>0.119199</td>\n",
              "      <td>0.043679</td>\n",
              "      <td>10.625636</td>\n",
              "      <td>0.307452</td>\n",
              "      <td>0.309123</td>\n",
              "      <td>0.295914</td>\n",
              "      <td>0.618509</td>\n",
              "      <td>0.250884</td>\n",
              "      <td>0.134649</td>\n",
              "      <td>0.121411</td>\n",
              "      <td>-0.182028</td>\n",
              "      <td>0.056574</td>\n",
              "      <td>0.289768</td>\n",
              "      <td>0.314139</td>\n",
              "      <td>0.388684</td>\n",
              "      <td>0.465633</td>\n",
              "      <td>0.481975</td>\n",
              "      <td>0.278865</td>\n",
              "      <td>327.86</td>\n",
              "      <td>223.05</td>\n",
              "      <td>769.06</td>\n",
              "      <td>268.89</td>\n",
              "      <td>289.58</td>\n",
              "      <td>149.37</td>\n",
              "      <td>876.46</td>\n",
              "      <td>0.264843</td>\n",
              "      <td>0.012115</td>\n",
              "      <td>0.717188</td>\n",
              "      <td>0.099935</td>\n",
              "      <td>-0.061177</td>\n",
              "      <td>0.073986</td>\n",
              "      <td>0.007576</td>\n",
              "      <td>0</td>\n",
              "    </tr>\n",
              "    <tr>\n",
              "      <th>1</th>\n",
              "      <td>45.728313</td>\n",
              "      <td>13.623806</td>\n",
              "      <td>0.297929</td>\n",
              "      <td>2.086037</td>\n",
              "      <td>316862.656300</td>\n",
              "      <td>374842.343800</td>\n",
              "      <td>804602.250000</td>\n",
              "      <td>0.019658</td>\n",
              "      <td>0.719390</td>\n",
              "      <td>0.657543</td>\n",
              "      <td>308969.156300</td>\n",
              "      <td>379569.906300</td>\n",
              "      <td>1.669636e+06</td>\n",
              "      <td>0.647240</td>\n",
              "      <td>0.973863</td>\n",
              "      <td>0.865942</td>\n",
              "      <td>0.561062</td>\n",
              "      <td>0.108611</td>\n",
              "      <td>0.042740</td>\n",
              "      <td>6.939828</td>\n",
              "      <td>0.348586</td>\n",
              "      <td>0.354220</td>\n",
              "      <td>0.351310</td>\n",
              "      <td>0.670727</td>\n",
              "      <td>0.147136</td>\n",
              "      <td>0.133380</td>\n",
              "      <td>0.135068</td>\n",
              "      <td>-0.130606</td>\n",
              "      <td>0.044295</td>\n",
              "      <td>0.323617</td>\n",
              "      <td>0.385008</td>\n",
              "      <td>0.474147</td>\n",
              "      <td>0.494095</td>\n",
              "      <td>0.520165</td>\n",
              "      <td>0.444091</td>\n",
              "      <td>327.86</td>\n",
              "      <td>223.05</td>\n",
              "      <td>769.06</td>\n",
              "      <td>268.89</td>\n",
              "      <td>289.58</td>\n",
              "      <td>149.37</td>\n",
              "      <td>876.46</td>\n",
              "      <td>0.264843</td>\n",
              "      <td>0.012115</td>\n",
              "      <td>0.717188</td>\n",
              "      <td>0.099935</td>\n",
              "      <td>-0.061177</td>\n",
              "      <td>0.073986</td>\n",
              "      <td>0.007576</td>\n",
              "      <td>0</td>\n",
              "    </tr>\n",
              "    <tr>\n",
              "      <th>2</th>\n",
              "      <td>33.262043</td>\n",
              "      <td>13.323813</td>\n",
              "      <td>0.400571</td>\n",
              "      <td>1.498783</td>\n",
              "      <td>29762.876950</td>\n",
              "      <td>36584.992190</td>\n",
              "      <td>67072.593750</td>\n",
              "      <td>0.001670</td>\n",
              "      <td>0.308652</td>\n",
              "      <td>0.292607</td>\n",
              "      <td>36392.964840</td>\n",
              "      <td>43032.312500</td>\n",
              "      <td>1.616443e+05</td>\n",
              "      <td>0.399972</td>\n",
              "      <td>0.985717</td>\n",
              "      <td>0.816634</td>\n",
              "      <td>0.506038</td>\n",
              "      <td>0.188336</td>\n",
              "      <td>0.045847</td>\n",
              "      <td>800.408508</td>\n",
              "      <td>0.358321</td>\n",
              "      <td>0.357803</td>\n",
              "      <td>0.351029</td>\n",
              "      <td>0.672994</td>\n",
              "      <td>0.183977</td>\n",
              "      <td>0.129643</td>\n",
              "      <td>0.035281</td>\n",
              "      <td>-0.087737</td>\n",
              "      <td>0.065842</td>\n",
              "      <td>0.368704</td>\n",
              "      <td>0.355546</td>\n",
              "      <td>0.304422</td>\n",
              "      <td>0.501278</td>\n",
              "      <td>0.487623</td>\n",
              "      <td>0.350502</td>\n",
              "      <td>327.86</td>\n",
              "      <td>223.05</td>\n",
              "      <td>769.06</td>\n",
              "      <td>268.89</td>\n",
              "      <td>289.58</td>\n",
              "      <td>149.37</td>\n",
              "      <td>876.46</td>\n",
              "      <td>0.264843</td>\n",
              "      <td>0.012115</td>\n",
              "      <td>0.717188</td>\n",
              "      <td>0.099935</td>\n",
              "      <td>-0.061177</td>\n",
              "      <td>0.073986</td>\n",
              "      <td>0.007576</td>\n",
              "      <td>0</td>\n",
              "    </tr>\n",
              "    <tr>\n",
              "      <th>3</th>\n",
              "      <td>8.025703</td>\n",
              "      <td>3.869000</td>\n",
              "      <td>0.482076</td>\n",
              "      <td>1.356151</td>\n",
              "      <td>6488.692871</td>\n",
              "      <td>7006.969727</td>\n",
              "      <td>5790.396973</td>\n",
              "      <td>0.000184</td>\n",
              "      <td>0.205865</td>\n",
              "      <td>0.234643</td>\n",
              "      <td>7096.825195</td>\n",
              "      <td>7673.087891</td>\n",
              "      <td>1.014219e+04</td>\n",
              "      <td>0.450355</td>\n",
              "      <td>0.703341</td>\n",
              "      <td>0.730731</td>\n",
              "      <td>0.741010</td>\n",
              "      <td>0.080584</td>\n",
              "      <td>0.048116</td>\n",
              "      <td>389.696228</td>\n",
              "      <td>0.281181</td>\n",
              "      <td>0.293343</td>\n",
              "      <td>0.293662</td>\n",
              "      <td>0.869283</td>\n",
              "      <td>0.087738</td>\n",
              "      <td>0.229176</td>\n",
              "      <td>0.024138</td>\n",
              "      <td>-0.017928</td>\n",
              "      <td>-0.192408</td>\n",
              "      <td>0.292345</td>\n",
              "      <td>0.445609</td>\n",
              "      <td>0.238837</td>\n",
              "      <td>0.470837</td>\n",
              "      <td>0.511137</td>\n",
              "      <td>0.402848</td>\n",
              "      <td>327.86</td>\n",
              "      <td>223.05</td>\n",
              "      <td>769.06</td>\n",
              "      <td>268.89</td>\n",
              "      <td>289.58</td>\n",
              "      <td>149.37</td>\n",
              "      <td>876.46</td>\n",
              "      <td>0.264843</td>\n",
              "      <td>0.012115</td>\n",
              "      <td>0.717188</td>\n",
              "      <td>0.099935</td>\n",
              "      <td>-0.061177</td>\n",
              "      <td>0.073986</td>\n",
              "      <td>0.007576</td>\n",
              "      <td>0</td>\n",
              "    </tr>\n",
              "    <tr>\n",
              "      <th>4</th>\n",
              "      <td>1.061468</td>\n",
              "      <td>0.243000</td>\n",
              "      <td>0.228928</td>\n",
              "      <td>1.676330</td>\n",
              "      <td>7620.187500</td>\n",
              "      <td>8419.264648</td>\n",
              "      <td>16907.236330</td>\n",
              "      <td>0.000431</td>\n",
              "      <td>0.959765</td>\n",
              "      <td>0.993985</td>\n",
              "      <td>5540.332520</td>\n",
              "      <td>7002.934570</td>\n",
              "      <td>4.100362e+04</td>\n",
              "      <td>1.068165</td>\n",
              "      <td>0.737721</td>\n",
              "      <td>0.752696</td>\n",
              "      <td>0.612079</td>\n",
              "      <td>0.033991</td>\n",
              "      <td>0.057299</td>\n",
              "      <td>6.939828</td>\n",
              "      <td>0.206353</td>\n",
              "      <td>0.235375</td>\n",
              "      <td>0.222508</td>\n",
              "      <td>0.845482</td>\n",
              "      <td>0.102297</td>\n",
              "      <td>0.130042</td>\n",
              "      <td>0.234137</td>\n",
              "      <td>-0.291400</td>\n",
              "      <td>-0.020558</td>\n",
              "      <td>0.200053</td>\n",
              "      <td>0.512144</td>\n",
              "      <td>0.247313</td>\n",
              "      <td>0.487032</td>\n",
              "      <td>0.482645</td>\n",
              "      <td>0.398468</td>\n",
              "      <td>327.86</td>\n",
              "      <td>223.05</td>\n",
              "      <td>769.06</td>\n",
              "      <td>268.89</td>\n",
              "      <td>289.58</td>\n",
              "      <td>149.37</td>\n",
              "      <td>876.46</td>\n",
              "      <td>0.264843</td>\n",
              "      <td>0.012115</td>\n",
              "      <td>0.717188</td>\n",
              "      <td>0.099935</td>\n",
              "      <td>-0.061177</td>\n",
              "      <td>0.073986</td>\n",
              "      <td>0.007576</td>\n",
              "      <td>0</td>\n",
              "    </tr>\n",
              "  </tbody>\n",
              "</table>\n",
              "</div>"
            ],
            "text/plain": [
              "         pop        emp  ...  fish_change  growthbucket\n",
              "0  28.849621   6.914298  ...     0.007576             0\n",
              "1  45.728313  13.623806  ...     0.007576             0\n",
              "2  33.262043  13.323813  ...     0.007576             0\n",
              "3   8.025703   3.869000  ...     0.007576             0\n",
              "4   1.061468   0.243000  ...     0.007576             0\n",
              "\n",
              "[5 rows x 50 columns]"
            ]
          },
          "metadata": {
            "tags": []
          },
          "execution_count": 10
        }
      ]
    },
    {
      "cell_type": "code",
      "metadata": {
        "id": "pcLYN6PAla-F",
        "colab_type": "code",
        "outputId": "7a92541a-7e1a-42bd-92b6-9534380d7630",
        "colab": {
          "base_uri": "https://localhost:8080/",
          "height": 832
        }
      },
      "source": [
        "df.plot()"
      ],
      "execution_count": 0,
      "outputs": [
        {
          "output_type": "execute_result",
          "data": {
            "text/plain": [
              "<matplotlib.axes._subplots.AxesSubplot at 0x7f3930d8ad68>"
            ]
          },
          "metadata": {
            "tags": []
          },
          "execution_count": 11
        },
        {
          "output_type": "display_data",
          "data": {
            "image/png": "[encoded data removed]",
            "text/plain": [
              "<Figure size 432x288 with 1 Axes>"
            ]
          },
          "metadata": {
            "tags": []
          }
        }
      ]
    }
  ]
}